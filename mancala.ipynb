{
 "cells": [
  {
   "cell_type": "markdown",
   "metadata": {},
   "source": [
    "# Mancala: Player vs AI\n",
    "In this project we have implemented a playable version of mancala using python with **slight rule tweaks**. We then proceeded to go try and test a few different types of AI to use as an opposing \"computer\" player for the humans to play against. These strategies were tested in this order:\n",
    "1. Random moves.\n",
    "2. Minimax\n",
    "3. Minimax with alpha beta pruning\n",
    "\n",
    "Our goal is to produce an AI that plays signficantly better than the random AI while running in real time without the user or player having to wait for long periods of time while the AI computes.\n",
    "## Rule changes to our mancala\n",
    "Our game of Mancala plays much like the normal version of mancala. We have varying sized boards that don't impact gameplay, but our main tweak to the original Mancala is:\n",
    "1. If your last stone for your turn lands in your Mancala, you don't get to make another move. In other words, the turn always alternates every time a player makes a move without exception.\n",
    "2. When a player has no stones left in any of the pits the game ends and the **none** of the remaining stones on the board are distributed to either players' Mancala pit.\n",
    "## How to play\n",
    "In the cell below we define a series of variables with comments explaining what they do. You can simply toggle on your preferred variables and then run the code. If a player is playing, you will have to send your moves through the CLI by typing a valid number seen in the printed Mancala board.\n",
    "## Options: Toggles with explanations to alter code"
   ]
  },
  {
   "cell_type": "markdown",
   "metadata": {},
   "source": [
    "The following are options to play out a single game using different players and see the results printed out. Note that enabling or disabling these does not disable the mass-game simulation and statistics."
   ]
  },
  {
   "cell_type": "code",
   "execution_count": null,
   "metadata": {},
   "outputs": [],
   "source": [
    "MOVE_COUNT = 100 # number of moves (both players combined) before the game configured below end automatically\n",
    "PLAY_USER_VS_RANDOM = False # whether or not to play the game using input from the terminal  and print out all the moves\n",
    "PLAY_MINIMAX_VS_RANDOM = False # whether or not to play the minimax version using subclass of Game and print out all the moves\n",
    "PLAY_ALPHABETA_VS_RANDOM = False # whether or not to play the alphabeta version using subclass of Game and print out all the moves"
   ]
  },
  {
   "cell_type": "markdown",
   "metadata": {},
   "source": [
    "These are just some misc options that could be useful for simulation testing"
   ]
  },
  {
   "cell_type": "code",
   "execution_count": null,
   "metadata": {},
   "outputs": [],
   "source": [
    "NUMBER_OF_GAMES_TO_SIMULATE = 1000 # number of games to simulate when testing the AI vs random games\n",
    "USE_SET_RANDOM_SEED = False # whether or not to use a set random seed for the random player\n",
    "RANDOM_SEED = 109 # the random seed to use if USE_SET_RANDOM_SEED is True"
   ]
  },
  {
   "cell_type": "markdown",
   "metadata": {},
   "source": [
    "# Libraries used\n",
    "Our libraries used are imported below. Most importantly, we are using the AIMA library game abstract class such that we will also have access to their minimax and alpha beta pruning algorithms."
   ]
  },
  {
   "cell_type": "code",
   "execution_count": null,
   "metadata": {},
   "outputs": [],
   "source": [
    "import random\n",
    "from random import seed\n",
    "from random import randint\n",
    "if USE_SET_RANDOM_SEED:\n",
    "    random.seed(RANDOM_SEED)"
   ]
  },
  {
   "cell_type": "code",
   "execution_count": null,
   "metadata": {},
   "outputs": [],
   "source": [
    "from games4e import *\n",
    "from utils4e import *"
   ]
  },
  {
   "cell_type": "markdown",
   "metadata": {},
   "source": [
    "# Implementation\n",
    "Below is where we implement our logic. We begin by subclassing the "
   ]
  },
  {
   "cell_type": "markdown",
   "metadata": {},
   "source": [
    "## Subclassing AIMA Game for Mancala\n",
    "Below is where we leverage the AIMA library. By subclassing their game class with proper methods, we can then apply minimax and alpha beta pruning to our AI player to improve it's effectiveness."
   ]
  },
  {
   "cell_type": "code",
   "execution_count": null,
   "metadata": {},
   "outputs": [],
   "source": [
    "# GameState contains the current state of the game\n",
    "from collections import namedtuple\n",
    "import random\n",
    "import sys\n",
    "\n",
    "# Update GameState to use current_player instead of to_move\n",
    "GameState = namedtuple('GameState', ['to_move', 'utility', 'board', 'score'])\n",
    "\n",
    "class Mancala(Game):\n",
    "    \"\"\"\n",
    "    pits_per_player: Number of pits for each player\n",
    "    stones_per_pit: Number of stones in each pit at the start of the game\n",
    "    board_size: Total number of pits on the board\n",
    "    initial: Initial state of the game\n",
    "    p1_store: Index of player 1's store\n",
    "    p2_store: Index of player 2's store\n",
    "    p1_pits_range: Range of indices for player 1's pits\n",
    "    p2_pits_range: Range of indices for player 2's pits\n",
    "    \"\"\" \n",
    "    def __init__(self, pits_per_player=3, stones_per_pit=2):\n",
    "        self.pits_per_player = pits_per_player\n",
    "        self.stones_per_pit = stones_per_pit\n",
    "        \n",
    "        # Calculate total board size: pits for both players + 2 stores\n",
    "        self.board_size = 2 * pits_per_player + 2\n",
    "        \n",
    "        # Initialize board with specified stones in each pit\n",
    "        board = [stones_per_pit] * self.board_size\n",
    "        board[pits_per_player] = 0  # Player 1's store\n",
    "        board[-1] = 0  # Player 2's store\n",
    "        \n",
    "        self.initial = GameState(to_move='1', utility=0, \n",
    "                               board=board, score={'1': 0, '2': 0})\n",
    "        \n",
    "        # Store indices for easy reference\n",
    "        self.p1_store = pits_per_player\n",
    "        self.p2_store = self.board_size - 1\n",
    "        \n",
    "        # Store pit ranges for display\n",
    "        self.p1_pits_range = (0, pits_per_player - 1)\n",
    "        self.p2_pits_range = (pits_per_player + 1, self.board_size - 2)\n",
    "\n",
    "    def actions(self, state):\n",
    "        \"\"\"Legal moves are the indices of non-empty pits on the current player's side.\"\"\"\n",
    "        if state.to_move == '1':\n",
    "            return [i for i in range(self.pits_per_player) if state.board[i] > 0]\n",
    "        else:\n",
    "            return [i for i in range(self.p1_store + 1, self.p2_store) \n",
    "                   if state.board[i] > 0]\n",
    "\n",
    "    def result(self, state, move):\n",
    "        \"\"\"Return the state that results from making a move.\"\"\"\n",
    "        if move not in self.actions(state):\n",
    "            return state  # Illegal move has no effect\n",
    "            \n",
    "        board = state.board.copy()\n",
    "        score = state.score.copy()\n",
    "        to_move = state.to_move\n",
    "        \n",
    "        # Pick up stones\n",
    "        stones = board[move]\n",
    "        board[move] = 0\n",
    "        \n",
    "        # Distribute stones\n",
    "        current_pit = move\n",
    "        \n",
    "        while stones > 0:\n",
    "            current_pit = (current_pit + 1) % self.board_size\n",
    "            # Skip opponent's store\n",
    "            if (to_move == '1' and current_pit == self.p2_store) or \\\n",
    "               (to_move == '2' and current_pit == self.p1_store):\n",
    "                continue\n",
    "                \n",
    "            board[current_pit] += 1\n",
    "            stones -= 1\n",
    "            \n",
    "            # Check for capture on last stone\n",
    "            if stones == 0:\n",
    "                if board[current_pit] == 1:\n",
    "                    # Check if last stone landed in an empty pit on player's side\n",
    "                    is_p1_side = current_pit < self.p1_store\n",
    "                    is_p2_side = self.p1_store < current_pit < self.p2_store\n",
    "                    \n",
    "                    if (to_move == '1' and is_p1_side) or \\\n",
    "                       (to_move == '2' and is_p2_side):\n",
    "                        opposite = (2 * self.pits_per_player) - current_pit\n",
    "                        if board[opposite] > 0:\n",
    "                            store = self.p1_store if to_move == '1' else self.p2_store\n",
    "                            board[store] += board[opposite] + 1\n",
    "                            board[opposite] = 0\n",
    "                            board[current_pit] = 0\n",
    "        \n",
    "        # Update scores\n",
    "        score['1'] = board[self.p1_store]\n",
    "        score['2'] = board[self.p2_store]\n",
    "        \n",
    "        # Switch to other player\n",
    "        next_player = '2' if to_move == '1' else '1'\n",
    "        \n",
    "        return GameState(to_move=next_player,\n",
    "                        utility=self.compute_utility(board, score),\n",
    "                        board=board,\n",
    "                        score=score)\n",
    "\n",
    "    def utility(self, state, player):\n",
    "        \"\"\"Return the value to player; 1 for win, -1 for loss, 0 for ongoing.\"\"\"\n",
    "        return state.utility if player == '1' else -state.utility\n",
    "\n",
    "    def terminal_test(self, state):\n",
    "        \"\"\"A state is terminal if one player's pits are all empty.\"\"\"\n",
    "        player1_empty = all(state.board[i] == 0 \n",
    "                          for i in range(self.pits_per_player))\n",
    "        player2_empty = all(state.board[i] == 0 \n",
    "                          for i in range(self.p1_store + 1, self.p2_store))\n",
    "        \n",
    "        next_player = '2' if state.to_move == '1' else '1'\n",
    "        return player1_empty or player2_empty\n",
    "\n",
    "    def display(self, state):\n",
    "        \"\"\"Display the current state of the board in a user-friendly format.\"\"\"\n",
    "        board = state.board\n",
    "        \n",
    "        # Extract relevant sections of the board\n",
    "        p1_pits = board[self.p1_pits_range[0]:self.p1_pits_range[1] + 1]\n",
    "        p1_mancala = board[self.p1_store]\n",
    "        p2_pits = board[self.p2_pits_range[0]:self.p2_pits_range[1] + 1]\n",
    "        p2_mancala = board[self.p2_store]\n",
    "\n",
    "        # Display board\n",
    "        print('\\nP1               P2')\n",
    "        print('     ____{}____     '.format(p2_mancala))\n",
    "        \n",
    "        for i in range(self.pits_per_player):\n",
    "            pit_num_1 = i  # Use actual index for player 1\n",
    "            pit_num_2 = self.p2_pits_range[0] + (self.pits_per_player - 1 - i)  # Calculate actual index for player 2\n",
    "            \n",
    "            if i == self.pits_per_player - 1:\n",
    "                print('{} -> |_{}_|_{}_| <- {}'.format(\n",
    "                    pit_num_1, p1_pits[i], p2_pits[-(i+1)], pit_num_2))\n",
    "            else:    \n",
    "                print('{} -> | {} | {} | <- {}'.format(\n",
    "                    pit_num_1, p1_pits[i], p2_pits[-(i+1)], pit_num_2))\n",
    "            \n",
    "        print('         {}         '.format(p1_mancala))\n",
    "        print('Turn: P{}'.format(state.to_move))\n",
    "        print(f\"Scores - P1: {state.score['1']}, P2: {state.score['2']}\\n\")\n",
    "\n",
    "    def compute_utility(self, board, score):\n",
    "        \"\"\"Compute the utility value of the current state.\"\"\"\n",
    "        return board[self.pits_per_player] - board[self.pits_per_player * 2 + 1]\n",
    "    \n",
    "    def play_game(self, *players):\n",
    "        \"\"\"Play an n-person, move-alternating game.\"\"\"\n",
    "        state = self.initial\n",
    "        while True:\n",
    "            for player in players:\n",
    "                move = player(self, state)\n",
    "                state = self.result(state, move)\n",
    "                if self.terminal_test(state):\n",
    "                    self.display(state)\n",
    "                    # return self.utility(state, self.to_move(self.initial))\n",
    "                    return state"
   ]
  },
  {
   "cell_type": "markdown",
   "metadata": {},
   "source": [
    "# Creating player classes\n",
    "Below we have a general function that takes in two player classes and then plays out a game of mancala between them, returning the result. This can be used to play many games with different types of players in any orientation. The function approach is powerful as it allows us to make player classes once, and then do any permutation of games, such as player vs player, or player vs minimax."
   ]
  },
  {
   "cell_type": "code",
   "execution_count": null,
   "metadata": {},
   "outputs": [],
   "source": [
    "# Function to play out a game between two player classes passed in as input\n",
    "def play_mancala(player1, player2):\n",
    "    \"\"\"Play a game of Mancala with graceful exit handling.\"\"\"\n",
    "    try:\n",
    "        game = Mancala(pits_per_player=3, stones_per_pit=2)\n",
    "        \n",
    "        # Play the game\n",
    "        final_state = game.play_game(player1, player2)\n",
    "        \n",
    "        # Display final score\n",
    "        print(\"\\nGame Over!\")\n",
    "        print(f\"Final Score - {player1.name}: {final_state.score['1']}, \"\n",
    "              f\"{player2.name}: {final_state.score['2']}\")\n",
    "        \n",
    "        # Determine winner\n",
    "        if final_state.score['1'] > final_state.score['2']:\n",
    "            print(f\"{player1.name} wins!\")\n",
    "            return 1\n",
    "        elif final_state.score['2'] > final_state.score['1']:\n",
    "            print(f\"{player2.name} wins!\")\n",
    "            return -1\n",
    "        else:\n",
    "            print(\"It's a tie!\")\n",
    "            return 0\n",
    "        \n",
    "    except (KeyboardInterrupt, EOFError):\n",
    "        print(\"\\nGame terminated by user!\")\n",
    "        sys.exit(0)"
   ]
  },
  {
   "cell_type": "code",
   "execution_count": null,
   "metadata": {},
   "outputs": [],
   "source": [
    "class GameExit(Exception):\n",
    "    \"\"\"Custom exception for handling game exits.\"\"\"\n",
    "    pass\n",
    "\n",
    "class HumanPlayer:\n",
    "    \"\"\"Interactive player that asks for moves through the command line.\"\"\"\n",
    "    def __init__(self, name=\"Human\"):\n",
    "        self.name = name\n",
    "\n",
    "    def __call__(self, game, state):\n",
    "        \"\"\"Make a move by querying standard input.\"\"\"\n",
    "        game.display(state)\n",
    "        valid_moves = game.actions(state)\n",
    "        \n",
    "        if not valid_moves:\n",
    "            return None\n",
    "            \n",
    "        prompt = f\"\\nPlayer {state.to_move}'s turn ({self.name})\\n\"\n",
    "        prompt += f\"Valid moves are {valid_moves} (or 'exit' to end game): \"\n",
    "        \n",
    "        while True:\n",
    "            move = input(prompt).lower().strip()\n",
    "            if move in ['exit', 'quit', 'escape']:\n",
    "                raise GameExit(\"Game ended by player\")\n",
    "            try:\n",
    "                move = int(move)\n",
    "                if move in valid_moves:\n",
    "                    return move\n",
    "            except ValueError:\n",
    "                pass\n",
    "            print('Invalid move. Try again.')\n",
    "\n",
    "class RandomPlayer:\n",
    "    \"\"\"A player that chooses moves randomly from valid options.\"\"\"\n",
    "    def __init__(self, name=\"Random\"):\n",
    "        self.name = name\n",
    "\n",
    "    def __call__(self, game, state):\n",
    "        \"\"\"Choose a random valid move.\"\"\"\n",
    "        valid_moves = game.actions(state)\n",
    "        if valid_moves:\n",
    "            return random.choice(valid_moves)\n",
    "        return None\n",
    "\n",
    "if PLAY_USER_VS_RANDOM:\n",
    "    play_mancala(HumanPlayer(\"Player 1\"), RandomPlayer())"
   ]
  },
  {
   "cell_type": "markdown",
   "metadata": {},
   "source": [
    "# Minimax Player\n",
    "Now we are going to build an AI player that uses minimax to choose the best move with a variable\n",
    "number of plies and a utility function we describe to see if it can beat the random player more than 50% of the time."
   ]
  },
  {
   "cell_type": "code",
   "execution_count": null,
   "metadata": {},
   "outputs": [],
   "source": [
    "def minmax_decision(state, game, depth=5):\n",
    "    \"\"\"Given a state in a game, calculate the best move by searching\n",
    "    forward all the way to the terminal states. [Figure 5.3]\"\"\"\n",
    "\n",
    "    player = game.to_move(state)\n",
    "\n",
    "    def max_value(state, depth):\n",
    "        if game.terminal_test(state) or depth == 0:\n",
    "            return game.utility(state, player)\n",
    "        v = -np.inf\n",
    "        for a in game.actions(state):\n",
    "            v = max(v, min_value(game.result(state, a), depth - 1))\n",
    "        return v\n",
    "\n",
    "    def min_value(state, depth):\n",
    "        if game.terminal_test(state) or depth == 0:\n",
    "            return game.utility(state, player)\n",
    "        v = np.inf\n",
    "        for a in game.actions(state):\n",
    "            v = min(v, max_value(game.result(state, a), depth - 1))\n",
    "        return v\n",
    "\n",
    "    # Body of minmax_decision:\n",
    "    return max(game.actions(state), key=lambda a: min_value(game.result(state, a), depth - 1))"
   ]
  },
  {
   "cell_type": "code",
   "execution_count": null,
   "metadata": {},
   "outputs": [],
   "source": [
    "class MinimaxPlayer:\n",
    "    \"\"\"A player that uses minimax to choose the best move.\"\"\"\n",
    "    \n",
    "    def __init__(self, name=\"Minimax\"):\n",
    "        self.name = name\n",
    "\n",
    "    def __call__(self, game, state):\n",
    "        \"\"\"Choose a random valid move.\"\"\"\n",
    "        move = minmax_decision(state, game)\n",
    "        return move\n",
    "        \n",
    "if PLAY_MINIMAX_VS_RANDOM:\n",
    "    play_mancala(MinimaxPlayer(), RandomPlayer())"
   ]
  },
  {
   "cell_type": "markdown",
   "metadata": {},
   "source": [
    "# Simulating 100 Games(Random player vs Minimax player) using a depth of 5 plies"
   ]
  },
  {
   "cell_type": "code",
   "execution_count": null,
   "metadata": {},
   "outputs": [],
   "source": [
    "minimaxwins = 0\n",
    "randomwins = 0\n",
    "ties = 0\n",
    "for i in range(NUMBER_OF_GAMES_TO_SIMULATE):\n",
    "    result = play_mancala(MinimaxPlayer(), RandomPlayer())\n",
    "    if(result == 1):\n",
    "        minimaxwins += 1\n",
    "    elif(result == -1):\n",
    "        randomwins += 1\n",
    "    else:\n",
    "        ties += 1"
   ]
  },
  {
   "cell_type": "code",
   "execution_count": null,
   "metadata": {},
   "outputs": [],
   "source": [
    "print(\"Percentage of games won by the minimax player:\", minimaxwins/NUMBER_OF_GAMES_TO_SIMULATE)"
   ]
  },
  {
   "cell_type": "markdown",
   "metadata": {},
   "source": [
    "# Alpha-Beta Player\n",
    "Now we are going to build an AI player that uses Alpha-Beta to choose the best move and supports a variable number of plies."
   ]
  },
  {
   "cell_type": "code",
   "execution_count": null,
   "metadata": {},
   "outputs": [],
   "source": [
    "def alpha_beta_search(state, game, depth):\n",
    "    \"\"\"Search game to determine best action; use alpha-beta pruning.\n",
    "    As in [Figure 5.7], this version searches all the way to the leaves.\"\"\"\n",
    "\n",
    "    player = game.to_move(state)\n",
    "\n",
    "    # Functions used by alpha_beta\n",
    "    def max_value(state, alpha, beta, depth):\n",
    "        if game.terminal_test(state) or depth == 0:\n",
    "            return game.utility(state, player)\n",
    "        v = -np.inf\n",
    "        for a in game.actions(state):\n",
    "            v = max(v, min_value(game.result(state, a), alpha, beta, depth - 1))\n",
    "            if v >= beta:\n",
    "                return v\n",
    "            alpha = max(alpha, v)\n",
    "        return v\n",
    "\n",
    "    def min_value(state, alpha, beta, depth):\n",
    "        if game.terminal_test(state) or depth == 0:\n",
    "            return game.utility(state, player)\n",
    "        v = np.inf\n",
    "        for a in game.actions(state):\n",
    "            v = min(v, max_value(game.result(state, a), alpha, beta, depth - 1))\n",
    "            if v <= alpha:\n",
    "                return v\n",
    "            beta = min(beta, v)\n",
    "        return v\n",
    "\n",
    "    # Body of alpha_beta_search:\n",
    "    best_score = -np.inf\n",
    "    beta = np.inf\n",
    "    best_action = None\n",
    "    for a in game.actions(state):\n",
    "        v = min_value(game.result(state, a), best_score, beta, depth - 1)\n",
    "        if v > best_score:\n",
    "            best_score = v\n",
    "            best_action = a\n",
    "    return best_action"
   ]
  },
  {
   "cell_type": "code",
   "execution_count": null,
   "metadata": {},
   "outputs": [],
   "source": [
    "class AlphaBetaPlayer:\n",
    "    \"\"\"A player that uses Alpha-Beta to choose the best move.\"\"\"\n",
    "    \n",
    "    def __init__(self, name=\"AlphaBeta\", depth=5):\n",
    "        self.name = name\n",
    "        self.depth = depth # depth to go in search\n",
    "\n",
    "    def __call__(self, game, state):\n",
    "        \"\"\"Choose a random valid move.\"\"\"\n",
    "        move = alpha_beta_search(state, game, self.depth)\n",
    "        return move"
   ]
  },
  {
   "cell_type": "code",
   "execution_count": null,
   "metadata": {},
   "outputs": [],
   "source": [
    "\n",
    "if PLAY_ALPHABETA_VS_RANDOM:\n",
    "    play_mancala(AlphaBetaPlayer(), RandomPlayer())"
   ]
  },
  {
   "cell_type": "markdown",
   "metadata": {},
   "source": [
    "# Simulating 100 Games(AlphaBeta vs Random) using a depth of 5 plies"
   ]
  },
  {
   "cell_type": "code",
   "execution_count": null,
   "metadata": {},
   "outputs": [],
   "source": [
    "alpha_beta_wins = 0\n",
    "randomwins = 0\n",
    "ties = 0\n",
    "for i in range(NUMBER_OF_GAMES_TO_SIMULATE):\n",
    "    result = play_mancala(AlphaBetaPlayer(), RandomPlayer())\n",
    "    if(result == 1):\n",
    "        alpha_beta_wins += 1\n",
    "    elif(result == -1):\n",
    "        randomwins += 1\n",
    "    else:\n",
    "        ties += 1"
   ]
  },
  {
   "cell_type": "code",
   "execution_count": null,
   "metadata": {},
   "outputs": [],
   "source": [
    "print(\"Percentage of games won by the minimax player:\", alpha_beta_wins/NUMBER_OF_GAMES_TO_SIMULATE)"
   ]
  },
  {
   "cell_type": "markdown",
   "metadata": {},
   "source": [
    "# (Extra Credit)\n",
    "Below is an alphabeta player with 10 plies against the random player."
   ]
  },
  {
   "cell_type": "code",
   "execution_count": null,
   "metadata": {},
   "outputs": [],
   "source": [
    "alpha_beta_wins = 0\n",
    "randomwins = 0\n",
    "ties = 0\n",
    "for i in range(NUMBER_OF_GAMES_TO_SIMULATE):\n",
    "    result = play_mancala(AlphaBetaPlayer(depth=10), RandomPlayer())\n",
    "    if(result == 1):\n",
    "        alpha_beta_wins += 1\n",
    "    elif(result == -1):\n",
    "        randomwins += 1\n",
    "    else:\n",
    "        ties += 1"
   ]
  },
  {
   "cell_type": "code",
   "execution_count": null,
   "metadata": {},
   "outputs": [],
   "source": [
    "print(\"Percentage of games won by the alphabeta with depth 10 player:\", alpha_beta_wins/NUMBER_OF_GAMES_TO_SIMULATE)"
   ]
  }
 ],
 "metadata": {
  "kernelspec": {
   "display_name": "venv",
   "language": "python",
   "name": "python3"
  },
  "language_info": {
   "codemirror_mode": {
    "name": "ipython",
    "version": 3
   },
   "file_extension": ".py",
   "mimetype": "text/x-python",
   "name": "python",
   "nbconvert_exporter": "python",
   "pygments_lexer": "ipython3",
   "version": "3.11.9"
  },
  "orig_nbformat": 4
 },
 "nbformat": 4,
 "nbformat_minor": 2
}
